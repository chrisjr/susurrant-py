{
 "metadata": {
  "name": "",
  "signature": "sha256:00819bda456f5a29a49c448ba904ed8db63cfe442cbfbe92502c40c0a8486b72"
 },
 "nbformat": 3,
 "nbformat_minor": 0,
 "worksheets": [
  {
   "cells": [
    {
     "cell_type": "code",
     "collapsed": false,
     "input": [
      "from sklearn.cluster import dbscan\n",
      "import h5py\n",
      "import time"
     ],
     "language": "python",
     "metadata": {},
     "outputs": [],
     "prompt_number": 2
    },
    {
     "cell_type": "code",
     "collapsed": false,
     "input": [
      "def do_dbscan(data_file):\n",
      "    with h5py.File(data_file, 'r') as data:\n",
      "        X = data['X'].value\n",
      "    return dbscan(X)\n",
      "\n",
      "start = time.time()\n",
      "res = do_dbscan('../vocab/train/gfccs_sampled.h5')\n",
      "finish = time.time() - start\n",
      "\n",
      "print '{} secs'.format(finish)"
     ],
     "language": "python",
     "metadata": {},
     "outputs": []
    },
    {
     "cell_type": "code",
     "collapsed": false,
     "input": [],
     "language": "python",
     "metadata": {},
     "outputs": [
      {
       "metadata": {},
       "output_type": "pyout",
       "prompt_number": 4,
       "text": [
        "1429633605.471526"
       ]
      }
     ],
     "prompt_number": 4
    }
   ],
   "metadata": {}
  }
 ]
}