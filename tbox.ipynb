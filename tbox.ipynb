{
 "metadata": {
  "name": "",
  "signature": "sha256:a61d828664fa098ff1f08913fbbf7fa8a14626578008371b9c8225183c153f48"
 },
 "nbformat": 3,
 "nbformat_minor": 0,
 "worksheets": []
}