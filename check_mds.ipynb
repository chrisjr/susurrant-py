{
 "metadata": {
  "name": "",
  "signature": "sha256:78c9b873e2e362cdb414142a5180eea3015d427eaf4fae5e5131b8616da6de20"
 },
 "nbformat": 3,
 "nbformat_minor": 0,
 "worksheets": [
  {
   "cells": [
    {
     "cell_type": "code",
     "collapsed": false,
     "input": [
      "%pylab inline\n",
      "\n",
      "from sklearn.manifold import MDS\n",
      "import h5py"
     ],
     "language": "python",
     "metadata": {},
     "outputs": [
      {
       "output_type": "stream",
       "stream": "stdout",
       "text": [
        "Populating the interactive namespace from numpy and matplotlib\n"
       ]
      }
     ],
     "prompt_number": 1
    },
    {
     "cell_type": "code",
     "collapsed": false,
     "input": [
      "def do_mds(data_file):\n",
      "    with h5py.File(data_file, 'r') as f:\n",
      "        data = f['/X'].value\n",
      "    mds = MDS(verbose=1, n_jobs=2)\n",
      "    pos = mds.fit_transform(data)\n",
      "    plt.scatter(pos[:, 0], pos[:, 1])\n",
      "\n",
      "do_mds('../vocab/train/gfccs_sampled.h5')"
     ],
     "language": "python",
     "metadata": {},
     "outputs": []
    }
   ],
   "metadata": {}
  }
 ]
}