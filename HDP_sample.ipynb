{
 "cells": [
  {
   "cell_type": "code",
   "execution_count": 3,
   "metadata": {
    "collapsed": false
   },
   "outputs": [],
   "source": [
    "import bnpy\n",
    "import AudioCorpus"
   ]
  },
  {
   "cell_type": "code",
   "execution_count": 4,
   "metadata": {
    "collapsed": false
   },
   "outputs": [],
   "source": [
    "data = AudioCorpus.get_data()"
   ]
  },
  {
   "cell_type": "code",
   "execution_count": null,
   "metadata": {
    "collapsed": false
   },
   "outputs": [
    {
     "name": "stdout",
     "output_type": "stream",
     "text": [
      "WARNING: Found unrecognized keyword args. These are ignored.\n",
      "  --lam\n",
      "  --mergeStartLap\n",
      "  --dtargetMaxSize\n",
      "  --mergePairSelection\n",
      "  --mergeNumStuckBeforeQuit\n",
      "  --mergePerLap\n",
      "Audio Corpus. obs=10.5M docs=559\n",
      "Entire Dataset Summary:\n",
      "  total size: 559 units\n",
      "  batch size: 56 units\n",
      "  num. batches: 10\n",
      "Data for Initialization:\n",
      "  size: 559 units (documents)\n",
      "  dimension: 13\n",
      "Allocation Model:  HDP model with K=20 active comps. gamma=1.00. alpha=0.10\n",
      "Obs. Data  Model:  Gaussian with full covariance.\n",
      "Obs. Data  Prior:  Gauss-Wishart on each mean/prec matrix pair: mu, Lam\n",
      "  E[ mu[k] ]     = [ 0.  0.] ...\n",
      "  E[ CovMat[k] ] = \n",
      "  [[ 1.  0.]\n",
      "   [ 0.  1.]] ...\n",
      "Learn Alg: moVB\n",
      "Trial  1/2 | alg. seed: 1040512 | data order seed: 8541952\n",
      "savepath: /Users/corajr/Development/bnpy-out/AudioCorpus/audiomergedelete-Kinit=20-kmeans/1\n",
      "    0.100/50 after     11 sec. | K   20 | ev -4.415297544e+00 |  \n",
      "    0.200/50 after     20 sec. | K   20 | ev -4.407528289e+00 |  \n",
      "    0.300/50 after     31 sec. | K   20 | ev -4.397411257e+00 |  \n"
     ]
    }
   ],
   "source": [
    "hmodel, RInfo = bnpy.run(data, 'HDPTopicModel', 'Gauss', 'moVB',\n",
    "                         K=20, initname='kmeans',\n",
    "                         nLap=50, printEvery=5, nCoordAscentItersLP=25,\n",
    "                         nTask=2, jobname='audiomergedelete-Kinit=20-kmeans')"
   ]
  }
 ],
 "metadata": {
  "kernelspec": {
   "display_name": "Python 2",
   "language": "python",
   "name": "python2"
  },
  "language_info": {
   "codemirror_mode": {
    "name": "ipython",
    "version": 2
   },
   "file_extension": ".py",
   "mimetype": "text/x-python",
   "name": "python",
   "nbconvert_exporter": "python",
   "pygments_lexer": "ipython2",
   "version": "2.7.11"
  }
 },
 "nbformat": 4,
 "nbformat_minor": 0
}
