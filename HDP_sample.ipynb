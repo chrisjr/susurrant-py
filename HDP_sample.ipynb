{
 "cells": [
  {
   "cell_type": "code",
   "execution_count": 3,
   "metadata": {
    "collapsed": false
   },
   "outputs": [],
   "source": [
    "import bnpy\n",
    "import AudioCorpus"
   ]
  },
  {
   "cell_type": "code",
   "execution_count": 4,
   "metadata": {
    "collapsed": false
   },
   "outputs": [],
   "source": [
    "data = AudioCorpus.get_data()"
   ]
  },
  {
   "cell_type": "code",
   "execution_count": 6,
   "metadata": {
    "collapsed": false
   },
   "outputs": [
    {
     "name": "stdout",
     "output_type": "stream",
     "text": [
      "WARNING: Found unrecognized keyword args. These are ignored.\n",
      "  --lam\n",
      "  --mergeStartLap\n",
      "  --dtargetMaxSize\n",
      "  --mergePairSelection\n",
      "  --mergeNumStuckBeforeQuit\n",
      "  --mergePerLap\n",
      "Audio Corpus. obs=10.5M docs=559\n",
      "Entire Dataset Summary:\n",
      "  total size: 559 units\n",
      "  batch size: 56 units\n",
      "  num. batches: 10\n",
      "Data for Initialization:\n",
      "  size: 559 units (documents)\n",
      "  dimension: 13\n",
      "Allocation Model:  HDP model with K=20 active comps. gamma=1.00. alpha=0.10\n",
      "Obs. Data  Model:  Gaussian with full covariance.\n",
      "Obs. Data  Prior:  Gauss-Wishart on each mean/prec matrix pair: mu, Lam\n",
      "  E[ mu[k] ]     = [ 0.  0.] ...\n",
      "  E[ CovMat[k] ] = \n",
      "  [[ 1.  0.]\n",
      "   [ 0.  1.]] ...\n",
      "Learn Alg: moVB\n",
      "Trial  1/2 | alg. seed: 1040512 | data order seed: 8541952\n",
      "savepath: /Users/corajr/Development/bnpy-out/AudioCorpus/audiomergedelete-Kinit=20-kmeans/1\n",
      "    0.100/50 after     11 sec. | K   20 | ev -4.415297544e+00 |  \n",
      "    0.200/50 after     20 sec. | K   20 | ev -4.407528289e+00 |  \n",
      "    0.300/50 after     31 sec. | K   20 | ev -4.397411257e+00 |  \n"
     ]
    },
    {
     "ename": "KeyboardInterrupt",
     "evalue": "",
     "output_type": "error",
     "traceback": [
      "\u001b[0;31m---------------------------------------------------------------------------\u001b[0m",
      "\u001b[0;31mKeyboardInterrupt\u001b[0m                         Traceback (most recent call last)",
      "\u001b[0;32m<ipython-input-6-003ad66389a4>\u001b[0m in \u001b[0;36m<module>\u001b[0;34m()\u001b[0m\n\u001b[1;32m      5\u001b[0m                          \u001b[0mK\u001b[0m\u001b[0;34m=\u001b[0m\u001b[0;36m20\u001b[0m\u001b[0;34m,\u001b[0m \u001b[0malpha\u001b[0m\u001b[0;34m=\u001b[0m\u001b[0;36m0.1\u001b[0m\u001b[0;34m,\u001b[0m \u001b[0mlam\u001b[0m\u001b[0;34m=\u001b[0m\u001b[0;36m0.1\u001b[0m\u001b[0;34m,\u001b[0m \u001b[0minitname\u001b[0m\u001b[0;34m=\u001b[0m\u001b[0;34m'kmeans'\u001b[0m\u001b[0;34m,\u001b[0m\u001b[0;34m\u001b[0m\u001b[0m\n\u001b[1;32m      6\u001b[0m                          \u001b[0mnLap\u001b[0m\u001b[0;34m=\u001b[0m\u001b[0;36m50\u001b[0m\u001b[0;34m,\u001b[0m \u001b[0mprintEvery\u001b[0m\u001b[0;34m=\u001b[0m\u001b[0;36m5\u001b[0m\u001b[0;34m,\u001b[0m \u001b[0mnCoordAscentItersLP\u001b[0m\u001b[0;34m=\u001b[0m\u001b[0;36m25\u001b[0m\u001b[0;34m,\u001b[0m\u001b[0;34m\u001b[0m\u001b[0m\n\u001b[0;32m----> 7\u001b[0;31m                          nTask=2, jobname='audiomergedelete-Kinit=20-kmeans')\n\u001b[0m",
      "\u001b[0;32m/Users/corajr/Development/bnpy-dev/bnpy/Run.pyc\u001b[0m in \u001b[0;36mrun\u001b[0;34m(dataName, allocModelName, obsModelName, algName, doSaveToDisk, doWriteStdOut, taskID, **kwargs)\u001b[0m\n\u001b[1;32m     91\u001b[0m                                           \u001b[0mdataName\u001b[0m\u001b[0;34m,\u001b[0m \u001b[0mallocModelName\u001b[0m\u001b[0;34m,\u001b[0m\u001b[0;34m\u001b[0m\u001b[0m\n\u001b[1;32m     92\u001b[0m                                           \u001b[0mobsModelName\u001b[0m\u001b[0;34m,\u001b[0m \u001b[0malgName\u001b[0m\u001b[0;34m,\u001b[0m\u001b[0;34m\u001b[0m\u001b[0m\n\u001b[0;32m---> 93\u001b[0;31m                                           doSaveToDisk, doWriteStdOut)\n\u001b[0m\u001b[1;32m     94\u001b[0m         \u001b[0;32mif\u001b[0m \u001b[0;34m(\u001b[0m\u001b[0mInfo\u001b[0m\u001b[0;34m[\u001b[0m\u001b[0;34m'evBound'\u001b[0m\u001b[0;34m]\u001b[0m \u001b[0;34m>\u001b[0m \u001b[0mbestEvBound\u001b[0m\u001b[0;34m)\u001b[0m\u001b[0;34m:\u001b[0m\u001b[0;34m\u001b[0m\u001b[0m\n\u001b[1;32m     95\u001b[0m             \u001b[0mbestModel\u001b[0m \u001b[0;34m=\u001b[0m \u001b[0mhmodel\u001b[0m\u001b[0;34m\u001b[0m\u001b[0m\n",
      "\u001b[0;32m/Users/corajr/Development/bnpy-dev/bnpy/Run.pyc\u001b[0m in \u001b[0;36m_run_task_internal\u001b[0;34m(jobname, taskid, nTask, ReqArgs, KwArgs, UnkArgs, dataName, allocModelName, obsModelName, algName, doSaveToDisk, doWriteStdOut)\u001b[0m\n\u001b[1;32m    230\u001b[0m \u001b[0;34m\u001b[0m\u001b[0m\n\u001b[1;32m    231\u001b[0m     \u001b[0;31m# Fit the model to the data!\u001b[0m\u001b[0;34m\u001b[0m\u001b[0;34m\u001b[0m\u001b[0m\n\u001b[0;32m--> 232\u001b[0;31m     \u001b[0mRunInfo\u001b[0m \u001b[0;34m=\u001b[0m \u001b[0mlearnAlg\u001b[0m\u001b[0;34m.\u001b[0m\u001b[0mfit\u001b[0m\u001b[0;34m(\u001b[0m\u001b[0mhmodel\u001b[0m\u001b[0;34m,\u001b[0m \u001b[0mData\u001b[0m\u001b[0;34m)\u001b[0m\u001b[0;34m\u001b[0m\u001b[0m\n\u001b[0m\u001b[1;32m    233\u001b[0m     \u001b[0;32mreturn\u001b[0m \u001b[0mhmodel\u001b[0m\u001b[0;34m,\u001b[0m \u001b[0mRunInfo\u001b[0m\u001b[0;34m\u001b[0m\u001b[0m\n\u001b[1;32m    234\u001b[0m \u001b[0;34m\u001b[0m\u001b[0m\n",
      "\u001b[0;32m/Users/corajr/Development/bnpy-dev/bnpy/learnalg/MOVBAlg.pyc\u001b[0m in \u001b[0;36mfit\u001b[0;34m(self, hmodel, DataIterator)\u001b[0m\n\u001b[1;32m     86\u001b[0m             \u001b[0mself\u001b[0m\u001b[0;34m.\u001b[0m\u001b[0malgParamsLP\u001b[0m\u001b[0;34m[\u001b[0m\u001b[0;34m'lapFrac'\u001b[0m\u001b[0;34m]\u001b[0m \u001b[0;34m=\u001b[0m \u001b[0mlapFrac\u001b[0m  \u001b[0;31m# logging\u001b[0m\u001b[0;34m\u001b[0m\u001b[0m\n\u001b[1;32m     87\u001b[0m             \u001b[0mself\u001b[0m\u001b[0;34m.\u001b[0m\u001b[0malgParamsLP\u001b[0m\u001b[0;34m[\u001b[0m\u001b[0;34m'batchID'\u001b[0m\u001b[0;34m]\u001b[0m \u001b[0;34m=\u001b[0m \u001b[0mbatchID\u001b[0m\u001b[0;34m\u001b[0m\u001b[0m\n\u001b[0;32m---> 88\u001b[0;31m             \u001b[0mLPchunk\u001b[0m \u001b[0;34m=\u001b[0m \u001b[0mself\u001b[0m\u001b[0;34m.\u001b[0m\u001b[0mmemoizedLocalStep\u001b[0m\u001b[0;34m(\u001b[0m\u001b[0mhmodel\u001b[0m\u001b[0;34m,\u001b[0m \u001b[0mDchunk\u001b[0m\u001b[0;34m,\u001b[0m \u001b[0mbatchID\u001b[0m\u001b[0;34m)\u001b[0m\u001b[0;34m\u001b[0m\u001b[0m\n\u001b[0m\u001b[1;32m     89\u001b[0m             self.saveDebugStateAtBatch('Estep', batchID, Dchunk=Dchunk,\n\u001b[1;32m     90\u001b[0m                                        SS=SS, hmodel=hmodel, LPchunk=LPchunk)\n",
      "\u001b[0;32m/Users/corajr/Development/bnpy-dev/bnpy/learnalg/MOVBAlg.pyc\u001b[0m in \u001b[0;36mmemoizedLocalStep\u001b[0;34m(self, hmodel, Dchunk, batchID)\u001b[0m\n\u001b[1;32m    159\u001b[0m             \u001b[0moldLPchunk\u001b[0m \u001b[0;34m=\u001b[0m \u001b[0mNone\u001b[0m\u001b[0;34m\u001b[0m\u001b[0m\n\u001b[1;32m    160\u001b[0m         LPchunk = hmodel.calc_local_params(Dchunk, oldLPchunk,\n\u001b[0;32m--> 161\u001b[0;31m                                            **self.algParamsLP)\n\u001b[0m\u001b[1;32m    162\u001b[0m         \u001b[0;32mif\u001b[0m \u001b[0mself\u001b[0m\u001b[0;34m.\u001b[0m\u001b[0malgParams\u001b[0m\u001b[0;34m[\u001b[0m\u001b[0;34m'doMemoizeLocalParams'\u001b[0m\u001b[0;34m]\u001b[0m\u001b[0;34m:\u001b[0m\u001b[0;34m\u001b[0m\u001b[0m\n\u001b[1;32m    163\u001b[0m             \u001b[0mself\u001b[0m\u001b[0;34m.\u001b[0m\u001b[0msave_batch_local_params_to_memory\u001b[0m\u001b[0;34m(\u001b[0m\u001b[0mbatchID\u001b[0m\u001b[0;34m,\u001b[0m \u001b[0mLPchunk\u001b[0m\u001b[0;34m)\u001b[0m\u001b[0;34m\u001b[0m\u001b[0m\n",
      "\u001b[0;32m/Users/corajr/Development/bnpy-dev/bnpy/HModel.pyc\u001b[0m in \u001b[0;36mcalc_local_params\u001b[0;34m(self, Data, LP, **kwargs)\u001b[0m\n\u001b[1;32m     72\u001b[0m         \u001b[0;31m# Combine with allocModel probs of each cluster\u001b[0m\u001b[0;34m\u001b[0m\u001b[0;34m\u001b[0m\u001b[0m\n\u001b[1;32m     73\u001b[0m         \u001b[0;31m# Fills in LP['resp'], N x K array whose rows sum to one\u001b[0m\u001b[0;34m\u001b[0m\u001b[0;34m\u001b[0m\u001b[0m\n\u001b[0;32m---> 74\u001b[0;31m         \u001b[0mLP\u001b[0m \u001b[0;34m=\u001b[0m \u001b[0mself\u001b[0m\u001b[0;34m.\u001b[0m\u001b[0mallocModel\u001b[0m\u001b[0;34m.\u001b[0m\u001b[0mcalc_local_params\u001b[0m\u001b[0;34m(\u001b[0m\u001b[0mData\u001b[0m\u001b[0;34m,\u001b[0m \u001b[0mLP\u001b[0m\u001b[0;34m,\u001b[0m \u001b[0;34m**\u001b[0m\u001b[0mkwargs\u001b[0m\u001b[0;34m)\u001b[0m\u001b[0;34m\u001b[0m\u001b[0m\n\u001b[0m\u001b[1;32m     75\u001b[0m         \u001b[0;32mreturn\u001b[0m \u001b[0mLP\u001b[0m\u001b[0;34m\u001b[0m\u001b[0m\n\u001b[1;32m     76\u001b[0m \u001b[0;34m\u001b[0m\u001b[0m\n",
      "\u001b[0;32m/Users/corajr/Development/bnpy-dev/bnpy/allocmodel/topics/HDPTopicModel.pyc\u001b[0m in \u001b[0;36mcalc_local_params\u001b[0;34m(self, Data, LP, **kwargs)\u001b[0m\n\u001b[1;32m    231\u001b[0m         \u001b[0malphaEbetaRem\u001b[0m \u001b[0;34m=\u001b[0m \u001b[0mself\u001b[0m\u001b[0;34m.\u001b[0m\u001b[0malpha_E_beta_rem\u001b[0m\u001b[0;34m(\u001b[0m\u001b[0;34m)\u001b[0m\u001b[0;34m\u001b[0m\u001b[0m\n\u001b[1;32m    232\u001b[0m         LP = LocalStepManyDocs.calcLocalParams(\n\u001b[0;32m--> 233\u001b[0;31m             Data, LP, alphaEbeta, alphaEbetaRem=alphaEbetaRem, **kwargs)\n\u001b[0m\u001b[1;32m    234\u001b[0m         \u001b[0;32massert\u001b[0m \u001b[0;34m'resp'\u001b[0m \u001b[0;32min\u001b[0m \u001b[0mLP\u001b[0m\u001b[0;34m\u001b[0m\u001b[0m\n\u001b[1;32m    235\u001b[0m         \u001b[0;32massert\u001b[0m \u001b[0;34m'DocTopicCount'\u001b[0m \u001b[0;32min\u001b[0m \u001b[0mLP\u001b[0m\u001b[0;34m\u001b[0m\u001b[0m\n",
      "\u001b[0;32m/Users/corajr/Development/bnpy-dev/bnpy/allocmodel/topics/LocalStepManyDocs.pyc\u001b[0m in \u001b[0;36mcalcLocalParams\u001b[0;34m(Data, LP, alphaEbeta, alphaEbetaRem, alpha, initDocTopicCountLP, cslice, **kwargs)\u001b[0m\n\u001b[1;32m     67\u001b[0m         \u001b[0mlstop\u001b[0m \u001b[0;34m=\u001b[0m \u001b[0mstop\u001b[0m \u001b[0;34m-\u001b[0m \u001b[0mslice_start\u001b[0m\u001b[0;34m\u001b[0m\u001b[0m\n\u001b[1;32m     68\u001b[0m         \u001b[0mLik_d\u001b[0m \u001b[0;34m=\u001b[0m \u001b[0mLik\u001b[0m\u001b[0;34m[\u001b[0m\u001b[0mlstart\u001b[0m\u001b[0;34m:\u001b[0m\u001b[0mlstop\u001b[0m\u001b[0;34m]\u001b[0m\u001b[0;34m.\u001b[0m\u001b[0mcopy\u001b[0m\u001b[0;34m(\u001b[0m\u001b[0;34m)\u001b[0m  \u001b[0;31m# Local copy\u001b[0m\u001b[0;34m\u001b[0m\u001b[0m\n\u001b[0;32m---> 69\u001b[0;31m         \u001b[0;32mif\u001b[0m \u001b[0mhasattr\u001b[0m\u001b[0;34m(\u001b[0m\u001b[0mData\u001b[0m\u001b[0;34m,\u001b[0m \u001b[0;34m'word_count'\u001b[0m\u001b[0;34m)\u001b[0m\u001b[0;34m:\u001b[0m\u001b[0;34m\u001b[0m\u001b[0m\n\u001b[0m\u001b[1;32m     70\u001b[0m             \u001b[0mwc_d\u001b[0m \u001b[0;34m=\u001b[0m \u001b[0mData\u001b[0m\u001b[0;34m.\u001b[0m\u001b[0mword_count\u001b[0m\u001b[0;34m[\u001b[0m\u001b[0mstart\u001b[0m\u001b[0;34m:\u001b[0m\u001b[0mstop\u001b[0m\u001b[0;34m]\u001b[0m\u001b[0;34m.\u001b[0m\u001b[0mcopy\u001b[0m\u001b[0;34m(\u001b[0m\u001b[0;34m)\u001b[0m\u001b[0;34m\u001b[0m\u001b[0m\n\u001b[1;32m     71\u001b[0m         \u001b[0;32melse\u001b[0m\u001b[0;34m:\u001b[0m\u001b[0;34m\u001b[0m\u001b[0m\n",
      "\u001b[0;31mKeyboardInterrupt\u001b[0m: "
     ]
    }
   ],
   "source": [
    "hmodel, RInfo = bnpy.run(data, 'HDPTopicModel', 'Gauss', 'moVB',\n",
    "                         K=20, initname='kmeans',\n",
    "                         nLap=50, printEvery=5, nCoordAscentItersLP=25,\n",
    "                         nTask=2, jobname='audiomergedelete-Kinit=20-kmeans')"
   ]
  }
 ],
 "metadata": {
  "kernelspec": {
   "display_name": "Python 2",
   "language": "python",
   "name": "python2"
  },
  "language_info": {
   "codemirror_mode": {
    "name": "ipython",
    "version": 2
   },
   "file_extension": ".py",
   "mimetype": "text/x-python",
   "name": "python",
   "nbconvert_exporter": "python",
   "pygments_lexer": "ipython2",
   "version": "2.7.11"
  }
 },
 "nbformat": 4,
 "nbformat_minor": 0
}
