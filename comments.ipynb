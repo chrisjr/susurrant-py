{
 "metadata": {
  "name": "",
  "signature": "sha256:736d284d8c0e6567e77f88cac31bce8a189b079bfec6986506577481e3450829"
 },
 "nbformat": 3,
 "nbformat_minor": 0,
 "worksheets": [
  {
   "cells": [
    {
     "cell_type": "code",
     "collapsed": false,
     "input": [
      "from track_info import get_track_comments\n",
      "\n",
      "track_comments = get_track_comments()"
     ],
     "language": "python",
     "metadata": {},
     "outputs": [],
     "prompt_number": 1
    },
    {
     "cell_type": "code",
     "collapsed": false,
     "input": [
      "def timestamp_to_segment(stamp,\n",
      "                         sample_rate=22050,\n",
      "                         frame_size=1024,\n",
      "                         frames_per_segment=8192):\n",
      "    seconds = stamp / 1000.0\n",
      "    sample = seconds * sample_rate\n",
      "    frame = int(sample / frame_size)\n",
      "    return frame // frames_per_segment\n",
      "\n",
      "def parse_comment(comment):\n",
      "    parsed = {}\n",
      "    track_id = comment['track_id']\n",
      "    segment = timestamp_to_segment(comment['timestamp'])\n",
      "    user = comment['user']\n",
      "    parsed['body'] = comment['body']\n",
      "    parsed['track_id'] = track_id\n",
      "    parsed['segment'] = '#{:#06x}'.format(track_id, segment)\n",
      "    parsed['link'] = comment['uri']\n",
      "    parsed['username'] = user['username']\n",
      "    parsed['user_url'] = user['permalink_url']\n",
      "    return parsed"
     ],
     "language": "python",
     "metadata": {},
     "outputs": [],
     "prompt_number": 19
    },
    {
     "cell_type": "code",
     "collapsed": false,
     "input": [
      "parse_comment(track_comments.values()[0])"
     ],
     "language": "python",
     "metadata": {},
     "outputs": [
      {
       "metadata": {},
       "output_type": "pyout",
       "prompt_number": 20,
       "text": [
        "{'body': u'I always love your work mikeQ work it out.',\n",
        " 'link': u'https://api.soundcloud.com/comments/78075222',\n",
        " 'segment': '#0x3a7d1c0',\n",
        " 'track_id': 61329856,\n",
        " 'user_url': u'http://soundcloud.com/martinbigr',\n",
        " 'username': u'martinbigR'}"
       ]
      }
     ],
     "prompt_number": 20
    },
    {
     "cell_type": "code",
     "collapsed": false,
     "input": [
      "import json\n",
      "\n",
      "with open(\"../comments.json\", 'wb') as f:\n",
      "    json.dump(track_comments, f)"
     ],
     "language": "python",
     "metadata": {},
     "outputs": [],
     "prompt_number": 15
    }
   ],
   "metadata": {}
  }
 ]
}