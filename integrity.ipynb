{
 "metadata": {
  "name": "",
  "signature": "sha256:b841a996477caca7cdb8021d26885ddd5567968f648e5eda12336340357201f6"
 },
 "nbformat": 3,
 "nbformat_minor": 0,
 "worksheets": [
  {
   "cells": [
    {
     "cell_type": "code",
     "collapsed": false,
     "input": [
      "import os\n",
      "import h5py\n",
      "from constants import valid_data_types\n",
      "from h5utils import by_chunk\n",
      "\n",
      "%pylab inline"
     ],
     "language": "python",
     "metadata": {},
     "outputs": [
      {
       "output_type": "stream",
       "stream": "stdout",
       "text": [
        "Populating the interactive namespace from numpy and matplotlib\n"
       ]
      }
     ],
     "prompt_number": 3
    },
    {
     "cell_type": "code",
     "collapsed": false,
     "input": [
      "def non_zeros(arr):\n",
      "    return np.count_nonzero(np.any(np.asarray(arr), axis=1))"
     ],
     "language": "python",
     "metadata": {},
     "outputs": [],
     "prompt_number": 4
    },
    {
     "cell_type": "code",
     "collapsed": false,
     "input": [
      "class CountValids:\n",
      "    valid = 0\n",
      "    total = 0\n",
      "    def __init__(self):\n",
      "        pass\n",
      "    def add(self, success):\n",
      "        if success:\n",
      "            self.valid += 1\n",
      "        self.total += 1\n",
      "    def result(self):\n",
      "        return float(self.valid)/self.total\n",
      "\n",
      "non_zero = lambda vec: np.count_nonzero(vec) > 0"
     ],
     "language": "python",
     "metadata": {},
     "outputs": [],
     "prompt_number": 2
    },
    {
     "cell_type": "code",
     "collapsed": false,
     "input": [
      "def check_kmeans(cluster_file):\n",
      "    if os.path.exists(cluster_file):\n",
      "        with open(cluster_file, 'r') as f:\n",
      "            counter = CountValids()\n",
      "            for line in f:\n",
      "                vec = [float(x) for x in line.split()]\n",
      "                counter.add(non_zero(vec))\n",
      "            return counter.result()\n",
      "    else:\n",
      "        print \"{} does not exist.\".format(cluster_file)\n",
      "        return 0.0\n",
      "\n",
      "for dtype in valid_data_types:\n",
      "    res = check_kmeans('../vocab/train/clusters_{}.txt'.format(dtype))\n",
      "    print \"{}: {:0%}\".format(dtype, res)"
     ],
     "language": "python",
     "metadata": {},
     "outputs": [
      {
       "output_type": "stream",
       "stream": "stdout",
       "text": [
        "gfccs: 99.400000%\n",
        "chroma: 100.000000%\n",
        "beat_coefs: 99.800000%\n"
       ]
      }
     ],
     "prompt_number": 3
    },
    {
     "cell_type": "code",
     "collapsed": false,
     "input": [
      "from constants import TIMBRE_GROUP\n",
      "from tracks_to_assignments import FeatureNN, get_anns\n",
      "from collections import defaultdict\n",
      "\n",
      "anns = get_anns()\n",
      "\n",
      "def get_nns(dtype, values):\n",
      "    if dtype == TIMBRE_GROUP:\n",
      "        values = values[:, 1:]\n",
      "    tree = anns[dtype]\n",
      "    assigned = [tree.nn(x) for x in values]\n",
      "    return assigned\n",
      "\n",
      "\n",
      "def check_tokens(track_file, token_file, track=None):\n",
      "    raw_by_dtype = {}\n",
      "    results = {}\n",
      "    with h5py.File(track_file, 'r') as tracks:\n",
      "        if track is None:\n",
      "            track = tracks.keys()[0]\n",
      "        grp = tracks[track]\n",
      "        for dtype in valid_data_types:\n",
      "            raw_by_dtype[dtype] = grp[dtype].value\n",
      "    with h5py.File(token_file, 'r') as tokens:\n",
      "        grp = tokens[track]\n",
      "        for dtype, values in raw_by_dtype.iteritems():\n",
      "            dtype_tokens = grp[dtype].value\n",
      "            nns = get_nns(dtype, values)\n",
      "            counter = CountValids()\n",
      "            for stored, nn in zip(dtype_tokens, nns):\n",
      "                counter.add(stored == nn)\n",
      "            results[dtype] = counter.result()\n",
      "    return results\n",
      "\n",
      "check_tokens('../tracks.h5', '../vocab/tokens.h5')"
     ],
     "language": "python",
     "metadata": {},
     "outputs": [
      {
       "metadata": {},
       "output_type": "pyout",
       "prompt_number": 4,
       "text": [
        "{'beat_coefs': 1.0, 'chroma': 1.0, 'gfccs': 1.0}"
       ]
      }
     ]
    },
    {
     "cell_type": "code",
     "collapsed": false,
     "input": [
      "def non_zero_rows(h5_file):\n",
      "    with h5py.File(h5_file, 'r') as f:\n",
      "        nnz = 0\n",
      "        for chunk in by_chunk(f['/X']):\n",
      "            nnz += non_zeros(chunk)\n",
      "        return float(nnz)/f['/X'].shape[0]\n",
      "\n",
      "non_zero_rows('../vocab/train/gfccs.h5')"
     ],
     "language": "python",
     "metadata": {},
     "outputs": [
      {
       "output_type": "stream",
       "stream": "stderr",
       "text": [
        "  0% |                                                                        |\r",
        "  0% |                                                                        |\r"
       ]
      },
      {
       "output_type": "stream",
       "stream": "stderr",
       "text": [
        "  1% |                                                                        |\r",
        "  1% |#                                                                       |\r"
       ]
      },
      {
       "output_type": "stream",
       "stream": "stderr",
       "text": [
        "  2% |#                                                                       |\r",
        "  2% |##                                                                      |\r"
       ]
      },
      {
       "output_type": "stream",
       "stream": "stderr",
       "text": [
        "  3% |##                                                                      |\r",
        "  3% |##                                                                      |\r"
       ]
      },
      {
       "output_type": "stream",
       "stream": "stderr",
       "text": [
        "  4% |##                                                                      |\r",
        "  4% |###                                                                     |\r"
       ]
      },
      {
       "output_type": "stream",
       "stream": "stderr",
       "text": [
        "  5% |###                                                                     |\r",
        "  5% |####                                                                    |\r"
       ]
      },
      {
       "output_type": "stream",
       "stream": "stderr",
       "text": [
        "  6% |####                                                                    |\r",
        "  6% |#####                                                                   |\r"
       ]
      },
      {
       "output_type": "stream",
       "stream": "stderr",
       "text": [
        "  7% |#####                                                                   |\r",
        "  7% |#####                                                                   |\r"
       ]
      },
      {
       "output_type": "stream",
       "stream": "stderr",
       "text": [
        "  8% |#####                                                                   |\r",
        "  8% |######                                                                  |\r"
       ]
      },
      {
       "output_type": "stream",
       "stream": "stderr",
       "text": [
        "  9% |######                                                                  |\r",
        "  9% |#######                                                                 |\r"
       ]
      },
      {
       "output_type": "stream",
       "stream": "stderr",
       "text": [
        " 10% |#######                                                                 |\r",
        " 10% |#######                                                                 |\r"
       ]
      },
      {
       "output_type": "stream",
       "stream": "stderr",
       "text": [
        " 11% |#######                                                                 |\r",
        " 11% |########                                                                |\r"
       ]
      },
      {
       "output_type": "stream",
       "stream": "stderr",
       "text": [
        " 12% |########                                                                |\r",
        " 12% |#########                                                               |\r"
       ]
      },
      {
       "output_type": "stream",
       "stream": "stderr",
       "text": [
        " 13% |#########                                                               |\r",
        " 13% |##########                                                              |\r"
       ]
      },
      {
       "output_type": "stream",
       "stream": "stderr",
       "text": [
        " 14% |##########                                                              |\r",
        " 14% |##########                                                              |\r"
       ]
      },
      {
       "output_type": "stream",
       "stream": "stderr",
       "text": [
        " 15% |##########                                                              |\r",
        " 15% |###########                                                             |\r"
       ]
      },
      {
       "output_type": "stream",
       "stream": "stderr",
       "text": [
        " 16% |###########                                                             |\r",
        " 16% |############                                                            |\r"
       ]
      },
      {
       "output_type": "stream",
       "stream": "stderr",
       "text": [
        " 17% |############                                                            |\r",
        " 17% |############                                                            |\r"
       ]
      },
      {
       "output_type": "stream",
       "stream": "stderr",
       "text": [
        " 18% |############                                                            |\r",
        " 18% |#############                                                           |\r"
       ]
      },
      {
       "output_type": "stream",
       "stream": "stderr",
       "text": [
        " 19% |#############                                                           |\r",
        " 19% |##############                                                          |\r"
       ]
      },
      {
       "output_type": "stream",
       "stream": "stderr",
       "text": [
        " 20% |##############                                                          |\r",
        " 20% |###############                                                         |\r"
       ]
      },
      {
       "output_type": "stream",
       "stream": "stderr",
       "text": [
        " 21% |###############                                                         |\r",
        " 21% |###############                                                         |\r"
       ]
      },
      {
       "output_type": "stream",
       "stream": "stderr",
       "text": [
        " 22% |###############                                                         |\r",
        " 22% |################                                                        |\r"
       ]
      },
      {
       "output_type": "stream",
       "stream": "stderr",
       "text": [
        " 23% |################                                                        |\r",
        " 23% |#################                                                       |\r"
       ]
      },
      {
       "output_type": "stream",
       "stream": "stderr",
       "text": [
        " 24% |#################                                                       |\r",
        " 24% |#################                                                       |\r"
       ]
      },
      {
       "output_type": "stream",
       "stream": "stderr",
       "text": [
        " 25% |##################                                                      |\r",
        " 25% |##################                                                      |\r"
       ]
      },
      {
       "output_type": "stream",
       "stream": "stderr",
       "text": [
        " 26% |##################                                                      |\r",
        " 26% |###################                                                     |\r"
       ]
      },
      {
       "output_type": "stream",
       "stream": "stderr",
       "text": [
        " 27% |###################                                                     |\r",
        " 27% |####################                                                    |\r"
       ]
      },
      {
       "output_type": "stream",
       "stream": "stderr",
       "text": [
        " 28% |####################                                                    |\r",
        " 28% |####################                                                    |\r"
       ]
      },
      {
       "output_type": "stream",
       "stream": "stderr",
       "text": [
        " 29% |####################                                                    |\r",
        " 29% |#####################                                                   |\r"
       ]
      },
      {
       "output_type": "stream",
       "stream": "stderr",
       "text": [
        " 30% |#####################                                                   |\r",
        " 30% |######################                                                  |\r"
       ]
      },
      {
       "output_type": "stream",
       "stream": "stderr",
       "text": [
        " 31% |######################                                                  |\r",
        " 31% |#######################                                                 |\r"
       ]
      },
      {
       "output_type": "stream",
       "stream": "stderr",
       "text": [
        " 32% |#######################                                                 |\r",
        " 32% |#######################                                                 |\r"
       ]
      },
      {
       "output_type": "stream",
       "stream": "stderr",
       "text": [
        " 33% |#######################                                                 |\r",
        " 33% |########################                                                |\r"
       ]
      },
      {
       "output_type": "stream",
       "stream": "stderr",
       "text": [
        " 34% |########################                                                |\r",
        " 34% |#########################                                               |\r"
       ]
      },
      {
       "output_type": "stream",
       "stream": "stderr",
       "text": [
        " 35% |#########################                                               |\r",
        " 35% |#########################                                               |\r"
       ]
      },
      {
       "output_type": "stream",
       "stream": "stderr",
       "text": [
        " 36% |#########################                                               |\r",
        " 36% |##########################                                              |\r"
       ]
      },
      {
       "output_type": "stream",
       "stream": "stderr",
       "text": [
        " 37% |##########################                                              |\r",
        " 37% |###########################                                             |\r"
       ]
      },
      {
       "output_type": "stream",
       "stream": "stderr",
       "text": [
        " 38% |###########################                                             |\r",
        " 38% |############################                                            |\r"
       ]
      },
      {
       "output_type": "stream",
       "stream": "stderr",
       "text": [
        " 39% |############################                                            |\r",
        " 39% |############################                                            |\r"
       ]
      },
      {
       "output_type": "stream",
       "stream": "stderr",
       "text": [
        " 40% |############################                                            |\r",
        " 40% |#############################                                           |\r"
       ]
      },
      {
       "output_type": "stream",
       "stream": "stderr",
       "text": [
        " 41% |#############################                                           |\r",
        " 41% |##############################                                          |\r"
       ]
      },
      {
       "output_type": "stream",
       "stream": "stderr",
       "text": [
        " 42% |##############################                                          |\r",
        " 42% |##############################                                          |\r"
       ]
      },
      {
       "output_type": "stream",
       "stream": "stderr",
       "text": [
        " 43% |##############################                                          |\r",
        " 43% |###############################                                         |\r"
       ]
      },
      {
       "output_type": "stream",
       "stream": "stderr",
       "text": [
        " 44% |###############################                                         |\r",
        " 44% |################################                                        |\r"
       ]
      },
      {
       "output_type": "stream",
       "stream": "stderr",
       "text": [
        " 45% |################################                                        |\r",
        " 45% |#################################                                       |\r"
       ]
      },
      {
       "output_type": "stream",
       "stream": "stderr",
       "text": [
        " 46% |#################################                                       |\r",
        " 46% |#################################                                       |\r"
       ]
      },
      {
       "output_type": "stream",
       "stream": "stderr",
       "text": [
        " 47% |#################################                                       |\r",
        " 47% |##################################                                      |\r"
       ]
      },
      {
       "output_type": "stream",
       "stream": "stderr",
       "text": [
        " 48% |##################################                                      |\r",
        " 48% |###################################                                     |\r"
       ]
      },
      {
       "output_type": "stream",
       "stream": "stderr",
       "text": [
        " 49% |###################################                                     |\r",
        " 49% |###################################                                     |\r"
       ]
      },
      {
       "output_type": "stream",
       "stream": "stderr",
       "text": [
        " 50% |####################################                                    |\r",
        " 50% |####################################                                    |\r"
       ]
      },
      {
       "output_type": "stream",
       "stream": "stderr",
       "text": [
        " 51% |####################################                                    |\r",
        " 51% |#####################################                                   |\r"
       ]
      },
      {
       "output_type": "stream",
       "stream": "stderr",
       "text": [
        " 52% |#####################################                                   |\r",
        " 52% |######################################                                  |\r"
       ]
      },
      {
       "output_type": "stream",
       "stream": "stderr",
       "text": [
        " 53% |######################################                                  |\r",
        " 53% |######################################                                  |\r"
       ]
      },
      {
       "output_type": "stream",
       "stream": "stderr",
       "text": [
        " 54% |######################################                                  |\r",
        " 54% |#######################################                                 |\r"
       ]
      },
      {
       "output_type": "stream",
       "stream": "stderr",
       "text": [
        " 55% |#######################################                                 |\r",
        " 55% |########################################                                |\r"
       ]
      },
      {
       "output_type": "stream",
       "stream": "stderr",
       "text": [
        " 56% |########################################                                |\r",
        " 56% |#########################################                               |\r"
       ]
      },
      {
       "output_type": "stream",
       "stream": "stderr",
       "text": [
        " 57% |#########################################                               |\r",
        " 57% |#########################################                               |\r"
       ]
      },
      {
       "output_type": "stream",
       "stream": "stderr",
       "text": [
        " 58% |#########################################                               |\r",
        " 58% |##########################################                              |\r"
       ]
      },
      {
       "output_type": "stream",
       "stream": "stderr",
       "text": [
        " 59% |##########################################                              |\r",
        " 59% |###########################################                             |\r"
       ]
      },
      {
       "output_type": "stream",
       "stream": "stderr",
       "text": [
        " 60% |###########################################                             |\r",
        " 60% |###########################################                             |\r"
       ]
      },
      {
       "output_type": "stream",
       "stream": "stderr",
       "text": [
        " 61% |###########################################                             |\r",
        " 61% |############################################                            |\r"
       ]
      },
      {
       "output_type": "stream",
       "stream": "stderr",
       "text": [
        " 62% |############################################                            |\r",
        " 62% |#############################################                           |\r"
       ]
      },
      {
       "output_type": "stream",
       "stream": "stderr",
       "text": [
        " 63% |#############################################                           |\r",
        " 63% |##############################################                          |\r"
       ]
      },
      {
       "output_type": "stream",
       "stream": "stderr",
       "text": [
        " 64% |##############################################                          |\r",
        " 64% |##############################################                          |\r"
       ]
      },
      {
       "output_type": "stream",
       "stream": "stderr",
       "text": [
        " 65% |##############################################                          |\r",
        " 65% |###############################################                         |\r"
       ]
      },
      {
       "output_type": "stream",
       "stream": "stderr",
       "text": [
        " 66% |###############################################                         |\r",
        " 66% |################################################                        |\r"
       ]
      },
      {
       "output_type": "stream",
       "stream": "stderr",
       "text": [
        " 67% |################################################                        |\r",
        " 67% |################################################                        |\r"
       ]
      },
      {
       "output_type": "stream",
       "stream": "stderr",
       "text": [
        " 68% |################################################                        |\r",
        " 68% |#################################################                       |\r"
       ]
      },
      {
       "output_type": "stream",
       "stream": "stderr",
       "text": [
        " 69% |#################################################                       |\r",
        " 69% |##################################################                      |\r"
       ]
      },
      {
       "output_type": "stream",
       "stream": "stderr",
       "text": [
        " 70% |##################################################                      |\r",
        " 70% |###################################################                     |\r"
       ]
      },
      {
       "output_type": "stream",
       "stream": "stderr",
       "text": [
        " 71% |###################################################                     |\r",
        " 71% |###################################################                     |\r"
       ]
      },
      {
       "output_type": "stream",
       "stream": "stderr",
       "text": [
        " 72% |###################################################                     |\r",
        " 72% |####################################################                    |\r"
       ]
      },
      {
       "output_type": "stream",
       "stream": "stderr",
       "text": [
        " 73% |####################################################                    |\r",
        " 73% |#####################################################                   |\r"
       ]
      },
      {
       "output_type": "stream",
       "stream": "stderr",
       "text": [
        " 74% |#####################################################                   |\r",
        " 74% |#####################################################                   |\r"
       ]
      },
      {
       "output_type": "stream",
       "stream": "stderr",
       "text": [
        " 75% |######################################################                  |\r",
        " 75% |######################################################                  |\r"
       ]
      },
      {
       "output_type": "stream",
       "stream": "stderr",
       "text": [
        " 76% |######################################################                  |\r",
        " 76% |#######################################################                 |\r"
       ]
      },
      {
       "output_type": "stream",
       "stream": "stderr",
       "text": [
        " 77% |#######################################################                 |\r",
        " 77% |########################################################                |\r"
       ]
      },
      {
       "output_type": "stream",
       "stream": "stderr",
       "text": [
        " 78% |########################################################                |\r",
        " 78% |########################################################                |\r"
       ]
      },
      {
       "output_type": "stream",
       "stream": "stderr",
       "text": [
        " 79% |########################################################                |\r",
        " 79% |#########################################################               |\r"
       ]
      },
      {
       "output_type": "stream",
       "stream": "stderr",
       "text": [
        " 80% |#########################################################               |\r",
        " 80% |##########################################################              |\r"
       ]
      },
      {
       "output_type": "stream",
       "stream": "stderr",
       "text": [
        " 81% |##########################################################              |\r",
        " 81% |###########################################################             |\r"
       ]
      },
      {
       "output_type": "stream",
       "stream": "stderr",
       "text": [
        " 82% |###########################################################             |\r",
        " 82% |###########################################################             |\r"
       ]
      },
      {
       "output_type": "stream",
       "stream": "stderr",
       "text": [
        " 83% |###########################################################             |\r",
        " 83% |############################################################            |\r"
       ]
      },
      {
       "output_type": "stream",
       "stream": "stderr",
       "text": [
        " 84% |############################################################            |\r",
        " 84% |#############################################################           |\r"
       ]
      },
      {
       "output_type": "stream",
       "stream": "stderr",
       "text": [
        " 85% |#############################################################           |\r",
        " 85% |#############################################################           |\r"
       ]
      },
      {
       "output_type": "stream",
       "stream": "stderr",
       "text": [
        " 86% |#############################################################           |\r",
        " 86% |##############################################################          |\r"
       ]
      },
      {
       "output_type": "stream",
       "stream": "stderr",
       "text": [
        " 87% |##############################################################          |\r",
        " 87% |###############################################################         |\r"
       ]
      },
      {
       "output_type": "stream",
       "stream": "stderr",
       "text": [
        " 88% |###############################################################         |\r",
        " 88% |################################################################        |\r"
       ]
      },
      {
       "output_type": "stream",
       "stream": "stderr",
       "text": [
        " 89% |################################################################        |\r",
        " 89% |################################################################        |\r"
       ]
      },
      {
       "output_type": "stream",
       "stream": "stderr",
       "text": [
        " 90% |################################################################        |\r",
        " 90% |#################################################################       |\r"
       ]
      },
      {
       "output_type": "stream",
       "stream": "stderr",
       "text": [
        " 91% |#################################################################       |\r",
        " 91% |##################################################################      |\r"
       ]
      },
      {
       "output_type": "stream",
       "stream": "stderr",
       "text": [
        " 92% |##################################################################      |\r",
        " 92% |##################################################################      |\r"
       ]
      },
      {
       "output_type": "stream",
       "stream": "stderr",
       "text": [
        " 93% |##################################################################      |\r",
        " 93% |###################################################################     |\r"
       ]
      },
      {
       "output_type": "stream",
       "stream": "stderr",
       "text": [
        " 94% |###################################################################     |\r",
        " 94% |####################################################################    |\r"
       ]
      },
      {
       "output_type": "stream",
       "stream": "stderr",
       "text": [
        " 95% |####################################################################    |\r",
        " 95% |#####################################################################   |\r"
       ]
      },
      {
       "output_type": "stream",
       "stream": "stderr",
       "text": [
        " 96% |#####################################################################   |\r",
        " 96% |#####################################################################   |\r"
       ]
      },
      {
       "output_type": "stream",
       "stream": "stderr",
       "text": [
        " 97% |#####################################################################   |\r",
        " 97% |######################################################################  |\r"
       ]
      },
      {
       "output_type": "stream",
       "stream": "stderr",
       "text": [
        " 98% |######################################################################  |\r",
        " 98% |####################################################################### |\r"
       ]
      },
      {
       "output_type": "stream",
       "stream": "stderr",
       "text": [
        " 99% |####################################################################### |\r",
        "100% |########################################################################|\r"
       ]
      },
      {
       "output_type": "stream",
       "stream": "stderr",
       "text": [
        "\n"
       ]
      },
      {
       "metadata": {},
       "output_type": "pyout",
       "prompt_number": 5,
       "text": [
        "0.9999826116213307"
       ]
      }
     ],
     "prompt_number": 5
    },
    {
     "cell_type": "code",
     "collapsed": false,
     "input": [
      "def ann_out(ann):\n",
      "    tree = ann.tree\n",
      "    return [tree.get_item_vector(i) for i in xrange(tree.get_n_items())]\n",
      "\n",
      "ann_out(anns['chroma'])[-1]"
     ],
     "language": "python",
     "metadata": {},
     "outputs": []
    }
   ],
   "metadata": {}
  }
 ]
}