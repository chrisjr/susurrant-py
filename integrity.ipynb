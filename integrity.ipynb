{
 "metadata": {
  "name": "",
  "signature": "sha256:184ef0762cd6f6b15e8d35cf58961c9137294b5a908534023e07687f74b9eaea"
 },
 "nbformat": 3,
 "nbformat_minor": 0,
 "worksheets": [
  {
   "cells": [
    {
     "cell_type": "code",
     "collapsed": false,
     "input": [
      "import os\n",
      "from constants import valid_data_types"
     ],
     "language": "python",
     "metadata": {},
     "outputs": [],
     "prompt_number": 3
    },
    {
     "cell_type": "code",
     "collapsed": false,
     "input": [
      "def check_kmeans(cluster_file):\n",
      "    if os.path.exists(cluster_file):\n",
      "        with open(cluster_file, 'r') as f:\n",
      "            total = 0\n",
      "            valid = 0.0\n",
      "            for line in f:\n",
      "                total += 1\n",
      "                vec = [float(x) for x in line.split()]\n",
      "                if any([abs(x) > 0.1 for x in vec]):\n",
      "                   valid += 1\n",
      "            return valid / total\n",
      "    else:\n",
      "        print \"{} does not exist.\".format(cluster_file)\n",
      "        return 0.0\n",
      "\n",
      "for dtype in valid_data_types:\n",
      "    res = check_kmeans('../vocab/train/clusters_{}.txt'.format(dtype))\n",
      "    print \"{}: {:0%}\".format(dtype, res)"
     ],
     "language": "python",
     "metadata": {},
     "outputs": [
      {
       "output_type": "stream",
       "stream": "stdout",
       "text": [
        "../vocab/train/clusters_gfccs.txt does not exist.\n",
        "gfccs: 0.000000%\n",
        "chroma: 8.333333%\n",
        "../vocab/train/clusters_beat_coefs.txt does not exist.\n",
        "beat_coefs: 0.000000%\n"
       ]
      }
     ],
     "prompt_number": 9
    }
   ],
   "metadata": {}
  }
 ]
}