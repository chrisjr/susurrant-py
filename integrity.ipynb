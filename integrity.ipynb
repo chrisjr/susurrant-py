{
 "metadata": {
  "name": "",
  "signature": "sha256:5c96334c6e3e0efb186f4a5727a08c9fecf0854280b02aa99b94293b3446d5c4"
 },
 "nbformat": 3,
 "nbformat_minor": 0,
 "worksheets": [
  {
   "cells": [
    {
     "cell_type": "code",
     "collapsed": false,
     "input": [
      "import os\n",
      "from constants import valid_data_types\n",
      "import h5py"
     ],
     "language": "python",
     "metadata": {},
     "outputs": [],
     "prompt_number": 1
    },
    {
     "cell_type": "code",
     "collapsed": false,
     "input": [
      "def check_kmeans(cluster_file):\n",
      "    if os.path.exists(cluster_file):\n",
      "        with open(cluster_file, 'r') as f:\n",
      "            total = 0\n",
      "            valid = 0.0\n",
      "            for line in f:\n",
      "                total += 1\n",
      "                vec = [float(x) for x in line.split()]\n",
      "                if any([abs(x) > 0.1 for x in vec]):\n",
      "                   valid += 1\n",
      "            return valid / total\n",
      "    else:\n",
      "        print \"{} does not exist.\".format(cluster_file)\n",
      "        return 0.0\n",
      "\n",
      "for dtype in valid_data_types:\n",
      "    res = check_kmeans('../vocab/train/clusters_{}.txt'.format(dtype))\n",
      "    print \"{}: {:0%}\".format(dtype, res)"
     ],
     "language": "python",
     "metadata": {},
     "outputs": [
      {
       "output_type": "stream",
       "stream": "stdout",
       "text": [
        "gfccs: 95.200000%\n",
        "chroma: 95.833333%\n",
        "beat_coefs: 99.800000%\n"
       ]
      }
     ],
     "prompt_number": 2
    },
    {
     "cell_type": "code",
     "collapsed": false,
     "input": [
      "from constants import TIMBRE_GROUP\n",
      "from tracks_to_assignments import FeatureNN, get_anns\n",
      "from collections import defaultdict\n",
      "\n",
      "anns = get_anns()\n",
      "\n",
      "def get_nns(dtype, values):\n",
      "    if dtype == TIMBRE_GROUP:\n",
      "        values = values[:, 1:]\n",
      "    tree = anns[dtype]\n",
      "    assigned = [tree.nn(x) for x in values]\n",
      "    return assigned\n",
      "\n",
      "\n",
      "def check_tokens(track_file, token_file, track=None):\n",
      "    raw_by_dtype = {}\n",
      "    results = {}\n",
      "    with h5py.File(track_file, 'r') as tracks:\n",
      "        if track is None:\n",
      "            track = tracks.keys()[0]\n",
      "        grp = tracks[track]\n",
      "        for dtype in valid_data_types:\n",
      "            raw_by_dtype[dtype] = grp[dtype].value\n",
      "    with h5py.File(token_file, 'r') as tokens:\n",
      "        grp = tokens[track]\n",
      "        for dtype, values in raw_by_dtype.iteritems():\n",
      "            dtype_tokens = grp[dtype].value\n",
      "            nns = get_nns(dtype, values)\n",
      "            total = 0\n",
      "            correct = 0\n",
      "            for stored, nn in zip(dtype_tokens, nns):\n",
      "                total += 1\n",
      "                if stored == nn:\n",
      "                    correct += 1\n",
      "            results[dtype] = float(correct)/total\n",
      "    return results\n",
      "\n",
      "check_tokens('../tracks.h5', '../vocab/tokens.h5')"
     ],
     "language": "python",
     "metadata": {},
     "outputs": [
      {
       "metadata": {},
       "output_type": "pyout",
       "prompt_number": 4,
       "text": [
        "{'beat_coefs': 1.0, 'chroma': 1.0, 'gfccs': 1.0}"
       ]
      }
     ],
     "prompt_number": 4
    },
    {
     "cell_type": "code",
     "collapsed": false,
     "input": [
      "def ann_out(ann):\n",
      "    tree = ann.tree\n",
      "    return [tree.get_item_vector(i) for i in xrange(tree.get_n_items())]\n",
      "\n",
      "ann_out(anns['chroma'])[-1]"
     ],
     "language": "python",
     "metadata": {},
     "outputs": [
      {
       "metadata": {},
       "output_type": "pyout",
       "prompt_number": 16,
       "text": [
        "[0.16000400483608246,\n",
        " 0.9452840089797974,\n",
        " 0.17844299972057343,\n",
        " 0.3848010003566742,\n",
        " 0.2878060042858124,\n",
        " 0.21744799613952637,\n",
        " 0.3292689919471741,\n",
        " 0.22891299426555634,\n",
        " 0.40889400243759155,\n",
        " 0.13332399725914001,\n",
        " 0.21963299810886383,\n",
        " 0.4789370000362396]"
       ]
      }
     ],
     "prompt_number": 16
    }
   ],
   "metadata": {}
  }
 ]
}