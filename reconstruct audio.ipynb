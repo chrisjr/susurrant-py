{
 "cells": [
  {
   "cell_type": "code",
   "execution_count": null,
   "metadata": {
    "collapsed": false
   },
   "outputs": [],
   "source": [
    "import os\n",
    "import h5py\n",
    "import numpy as np\n",
    "from constants import valid_data_types\n",
    "from utils import igfcc\n",
    "from scikits.audiolab import wavwrite, play\n",
    "from sklearn import manifold\n",
    "from sklearn.metrics import euclidean_distances\n",
    "\n",
    "%pylab inline"
   ]
  },
  {
   "cell_type": "code",
   "execution_count": 19,
   "metadata": {
    "collapsed": false
   },
   "outputs": [
    {
     "name": "stdout",
     "output_type": "stream",
     "text": [
      "<HDF5 dataset \"gfccs\": shape (8192,), type \"<i8\">\n"
     ]
    }
   ],
   "source": [
    "with h5py.File('../segmented.h5', 'r') as segments:\n",
    "    for seg in segments:\n",
    "        grp = segments[seg]\n",
    "        print(grp['gfccs'])\n",
    "        break\n"
   ]
  },
  {
   "cell_type": "markdown",
   "metadata": {},
   "source": [
    "## Retrieve GFCC (gammatone-frequency cepstral coefficients)"
   ]
  },
  {
   "cell_type": "code",
   "execution_count": null,
   "metadata": {
    "collapsed": false
   },
   "outputs": [],
   "source": [
    "def get_gfccs(i=4):\n",
    "    with h5py.File('../tracks.h5', 'r') as tracks:\n",
    "        keys = list(tracks.keys())\n",
    "        track = keys[i]\n",
    "        grp = tracks[track]\n",
    "        gfccs = grp['gfccs'].value\n",
    "    return gfccs\n",
    "#         gfccs = grp['gfccs'].value[:,1:] # remove DC component\n",
    "#         shapes = {dtype: grp[dtype].value.shape for dtype in valid_data_types}\n",
    "#         print(shapes)\n"
   ]
  },
  {
   "cell_type": "code",
   "execution_count": null,
   "metadata": {
    "collapsed": true
   },
   "outputs": [],
   "source": [
    "gfccs = get_gfccs(4)"
   ]
  },
  {
   "cell_type": "code",
   "execution_count": null,
   "metadata": {
    "collapsed": false
   },
   "outputs": [],
   "source": [
    "gfccs = gfccs.astype(np.float64)\n",
    "dists = euclidean_distances(gfccs)\n",
    "mds = manifold.MDS(2, dissimilarity='precomputed', n_init=1, max_iter=100, verbose=1)\n",
    "scaled = mds.fit(dists)\n",
    "trans_data = scaled.embedding_\n",
    "plt.hexbin(trans_data[:, 0], trans_data[:, 1], gridsize=500)"
   ]
  },
  {
   "cell_type": "code",
   "execution_count": 17,
   "metadata": {
    "collapsed": false
   },
   "outputs": [
    {
     "data": {
      "text/plain": [
       "<matplotlib.collections.PolyCollection at 0x138dfe310>"
      ]
     },
     "execution_count": 17,
     "metadata": {},
     "output_type": "execute_result"
    },
    {
     "data": {
      "image/png": "[encoded data removed]",
      "text/plain": [
       "<matplotlib.figure.Figure at 0x1124a0bd0>"
      ]
     },
     "metadata": {},
     "output_type": "display_data"
    }
   ],
   "source": [
    "plt.hexbin(trans_data[:, 0], trans_data[:, 1], gridsize=500)"
   ]
  },
  {
   "cell_type": "markdown",
   "metadata": {},
   "source": [
    "## Play audio"
   ]
  },
  {
   "cell_type": "code",
   "execution_count": null,
   "metadata": {
    "collapsed": false
   },
   "outputs": [],
   "source": [
    "y = igfcc(gfccs, has_power=True)\n",
    "y = y.astype(np.float64)\n",
    "play(y)\n"
   ]
  },
  {
   "cell_type": "code",
   "execution_count": null,
   "metadata": {
    "collapsed": false
   },
   "outputs": [],
   "source": []
  }
 ],
 "metadata": {
  "kernelspec": {
   "display_name": "Python 2",
   "language": "python",
   "name": "python2"
  },
  "language_info": {
   "codemirror_mode": {
    "name": "ipython",
    "version": 2
   },
   "file_extension": ".py",
   "mimetype": "text/x-python",
   "name": "python",
   "nbconvert_exporter": "python",
   "pygments_lexer": "ipython2",
   "version": "2.7.11"
  }
 },
 "nbformat": 4,
 "nbformat_minor": 0
}
